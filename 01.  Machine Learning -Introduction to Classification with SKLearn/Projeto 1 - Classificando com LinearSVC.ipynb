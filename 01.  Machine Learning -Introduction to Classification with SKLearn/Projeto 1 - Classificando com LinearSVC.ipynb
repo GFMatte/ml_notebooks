{
 "cells": [
  {
   "cell_type": "markdown",
   "id": "43bbbb38",
   "metadata": {},
   "source": [
    "# Projeto 1 - Classificando animais com LinearSVC\n"
   ]
  },
  {
   "cell_type": "code",
   "execution_count": 11,
   "id": "aa8cd7bb",
   "metadata": {},
   "outputs": [],
   "source": [
    "# features (1 sim, 0 não)\n",
    "# pelo longo? \n",
    "# perna curta?\n",
    "# faz auau?\n",
    "porco1 = [0, 1, 0]\n",
    "porco2 = [0, 1, 1]\n",
    "porco3 = [1, 1, 0]\n",
    "\n",
    "cachorro1 = [0, 1, 1]\n",
    "cachorro2 = [1, 0, 1]\n",
    "cachorro3 = [1, 1, 1]\n",
    "\n",
    "# 1 => porco, 0 => cachorro\n",
    "train_x = [porco1, porco2, porco3, cachorro1, cachorro2, cachorro3]\n",
    "train_y = [1,1,1,0,0,0] # labels"
   ]
  },
  {
   "cell_type": "code",
   "execution_count": 12,
   "id": "3bf01cdc",
   "metadata": {},
   "outputs": [
    {
     "data": {
      "text/plain": [
       "[[0, 1, 0], [0, 1, 1], [1, 1, 0], [0, 1, 1], [1, 0, 1], [1, 1, 1]]"
      ]
     },
     "execution_count": 12,
     "metadata": {},
     "output_type": "execute_result"
    }
   ],
   "source": [
    "train_x"
   ]
  },
  {
   "cell_type": "code",
   "execution_count": 13,
   "id": "44fb4967",
   "metadata": {},
   "outputs": [
    {
     "data": {
      "text/plain": [
       "[1, 1, 1, 0, 0, 0]"
      ]
     },
     "execution_count": 13,
     "metadata": {},
     "output_type": "execute_result"
    }
   ],
   "source": [
    "train_y"
   ]
  },
  {
   "cell_type": "code",
   "execution_count": 14,
   "id": "3bf3eac0",
   "metadata": {},
   "outputs": [],
   "source": [
    "# importando o sklearn\n",
    "from sklearn.svm import LinearSVC"
   ]
  },
  {
   "cell_type": "code",
   "execution_count": 15,
   "id": "669a53aa",
   "metadata": {},
   "outputs": [],
   "source": [
    "# instanciando o modelo\n",
    "model = LinearSVC()"
   ]
  },
  {
   "cell_type": "code",
   "execution_count": 16,
   "id": "7374cf97",
   "metadata": {},
   "outputs": [
    {
     "data": {
      "text/plain": [
       "LinearSVC()"
      ]
     },
     "execution_count": 16,
     "metadata": {},
     "output_type": "execute_result"
    }
   ],
   "source": [
    "# adaptando o modelo aos dados\n",
    "model.fit(train_x, train_y)"
   ]
  },
  {
   "cell_type": "code",
   "execution_count": 17,
   "id": "ef16b70d",
   "metadata": {},
   "outputs": [
    {
     "data": {
      "text/plain": [
       "array([0])"
      ]
     },
     "execution_count": 17,
     "metadata": {},
     "output_type": "execute_result"
    }
   ],
   "source": [
    "# criando um animal para estimar com o modelo\n",
    "animal_misterioso = [1, 1, 1]\n",
    "model.predict([animal_misterioso]) #passar em forma de lista"
   ]
  },
  {
   "cell_type": "code",
   "execution_count": 18,
   "id": "1e5a1d4c",
   "metadata": {},
   "outputs": [
    {
     "data": {
      "text/plain": [
       "array([0, 1, 0])"
      ]
     },
     "execution_count": 18,
     "metadata": {},
     "output_type": "execute_result"
    }
   ],
   "source": [
    "# criando diversos animais para estimar o modelo\n",
    "misterio1 = [1,1,1]\n",
    "misterio2 = [1,1,0]\n",
    "misterio3 = [0,1,1]\n",
    "\n",
    "# conjunto de animais\n",
    "teste_x = [misterio1, misterio2, misterio3] \n",
    "teste_y = [0, 1, 1]\n",
    "# testando o modelo novamente\n",
    "previsoes = model.predict(teste_x)\n",
    "previsoes"
   ]
  },
  {
   "cell_type": "markdown",
   "id": "13303fae",
   "metadata": {},
   "source": [
    "### Testando o modelo criado"
   ]
  },
  {
   "cell_type": "code",
   "execution_count": 19,
   "id": "e37f3b34",
   "metadata": {},
   "outputs": [],
   "source": [
    "# testes de referencia (exemplo)\n",
    "teste_y = [0, 1, 1]"
   ]
  },
  {
   "cell_type": "code",
   "execution_count": 21,
   "id": "a860f4be",
   "metadata": {},
   "outputs": [
    {
     "name": "stdout",
     "output_type": "stream",
     "text": [
      "Taxa de acerto do modelo é de: 66.67%\n"
     ]
    }
   ],
   "source": [
    "# calculando a taxa de acerto do modelo\n",
    "corretos = (previsoes == teste_y).sum()\n",
    "total = len(teste_y)\n",
    "taxa_acertos = corretos / total * 100\n",
    "\n",
    "print(f'Taxa de acerto do modelo é de: {taxa_acertos.round(2)}%')"
   ]
  },
  {
   "cell_type": "markdown",
   "id": "3032d159",
   "metadata": {},
   "source": [
    "### Testando o modelo com funções internas do SKLearn"
   ]
  },
  {
   "cell_type": "code",
   "execution_count": 22,
   "id": "544a79bd",
   "metadata": {},
   "outputs": [],
   "source": [
    "# importando \n",
    "from sklearn.metrics import accuracy_score"
   ]
  },
  {
   "cell_type": "code",
   "execution_count": 23,
   "id": "c793b548",
   "metadata": {},
   "outputs": [
    {
     "name": "stdout",
     "output_type": "stream",
     "text": [
      "Taxa de acerto do modelo é de: 66.67%\n"
     ]
    }
   ],
   "source": [
    "taxa_de_acerto = accuracy_score(teste_y, previsoes) *100\n",
    "\n",
    "print(f'Taxa de acerto do modelo é de: {taxa_de_acerto.round(2)}%')"
   ]
  },
  {
   "cell_type": "code",
   "execution_count": null,
   "id": "fa01c2ae",
   "metadata": {},
   "outputs": [],
   "source": []
  }
 ],
 "metadata": {
  "kernelspec": {
   "display_name": "Python 3 (ipykernel)",
   "language": "python",
   "name": "python3"
  },
  "language_info": {
   "codemirror_mode": {
    "name": "ipython",
    "version": 3
   },
   "file_extension": ".py",
   "mimetype": "text/x-python",
   "name": "python",
   "nbconvert_exporter": "python",
   "pygments_lexer": "ipython3",
   "version": "3.9.12"
  },
  "varInspector": {
   "cols": {
    "lenName": 16,
    "lenType": 16,
    "lenVar": 40
   },
   "kernels_config": {
    "python": {
     "delete_cmd_postfix": "",
     "delete_cmd_prefix": "del ",
     "library": "var_list.py",
     "varRefreshCmd": "print(var_dic_list())"
    },
    "r": {
     "delete_cmd_postfix": ") ",
     "delete_cmd_prefix": "rm(",
     "library": "var_list.r",
     "varRefreshCmd": "cat(var_dic_list()) "
    }
   },
   "types_to_exclude": [
    "module",
    "function",
    "builtin_function_or_method",
    "instance",
    "_Feature"
   ],
   "window_display": false
  }
 },
 "nbformat": 4,
 "nbformat_minor": 5
}
