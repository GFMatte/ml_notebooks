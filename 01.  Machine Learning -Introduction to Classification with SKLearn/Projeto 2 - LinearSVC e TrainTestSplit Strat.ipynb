{
 "cells": [
  {
   "cell_type": "markdown",
   "id": "1741bbb6",
   "metadata": {},
   "source": [
    "# Projeto 2 - Compra ou não compra?"
   ]
  },
  {
   "cell_type": "markdown",
   "id": "7606181d",
   "metadata": {},
   "source": [
    "### Obtendo os dados"
   ]
  },
  {
   "cell_type": "code",
   "execution_count": 1,
   "id": "d0b952f8",
   "metadata": {},
   "outputs": [
    {
     "data": {
      "text/html": [
       "<div>\n",
       "<style scoped>\n",
       "    .dataframe tbody tr th:only-of-type {\n",
       "        vertical-align: middle;\n",
       "    }\n",
       "\n",
       "    .dataframe tbody tr th {\n",
       "        vertical-align: top;\n",
       "    }\n",
       "\n",
       "    .dataframe thead th {\n",
       "        text-align: right;\n",
       "    }\n",
       "</style>\n",
       "<table border=\"1\" class=\"dataframe\">\n",
       "  <thead>\n",
       "    <tr style=\"text-align: right;\">\n",
       "      <th></th>\n",
       "      <th>home</th>\n",
       "      <th>how_it_works</th>\n",
       "      <th>contact</th>\n",
       "      <th>bought</th>\n",
       "    </tr>\n",
       "  </thead>\n",
       "  <tbody>\n",
       "    <tr>\n",
       "      <th>0</th>\n",
       "      <td>1</td>\n",
       "      <td>1</td>\n",
       "      <td>0</td>\n",
       "      <td>0</td>\n",
       "    </tr>\n",
       "    <tr>\n",
       "      <th>1</th>\n",
       "      <td>1</td>\n",
       "      <td>1</td>\n",
       "      <td>0</td>\n",
       "      <td>0</td>\n",
       "    </tr>\n",
       "    <tr>\n",
       "      <th>2</th>\n",
       "      <td>1</td>\n",
       "      <td>1</td>\n",
       "      <td>0</td>\n",
       "      <td>0</td>\n",
       "    </tr>\n",
       "    <tr>\n",
       "      <th>3</th>\n",
       "      <td>1</td>\n",
       "      <td>1</td>\n",
       "      <td>0</td>\n",
       "      <td>0</td>\n",
       "    </tr>\n",
       "    <tr>\n",
       "      <th>4</th>\n",
       "      <td>1</td>\n",
       "      <td>1</td>\n",
       "      <td>0</td>\n",
       "      <td>0</td>\n",
       "    </tr>\n",
       "  </tbody>\n",
       "</table>\n",
       "</div>"
      ],
      "text/plain": [
       "   home  how_it_works  contact  bought\n",
       "0     1             1        0       0\n",
       "1     1             1        0       0\n",
       "2     1             1        0       0\n",
       "3     1             1        0       0\n",
       "4     1             1        0       0"
      ]
     },
     "execution_count": 1,
     "metadata": {},
     "output_type": "execute_result"
    }
   ],
   "source": [
    "# Abrindo fonte de dados\n",
    "import pandas as pd\n",
    "\n",
    "url = 'https://gist.githubusercontent.com/guilhermesilveira/2d2efa37d66b6c84a722ea627a897ced/raw/10968b997d885cbded1c92938c7a9912ba41c615/tracking.csv'\n",
    "dados = pd.read_csv(url)\n",
    "\n",
    "dados.head(5)"
   ]
  },
  {
   "cell_type": "code",
   "execution_count": 2,
   "id": "1e7ad309",
   "metadata": {},
   "outputs": [
    {
     "data": {
      "text/html": [
       "<div>\n",
       "<style scoped>\n",
       "    .dataframe tbody tr th:only-of-type {\n",
       "        vertical-align: middle;\n",
       "    }\n",
       "\n",
       "    .dataframe tbody tr th {\n",
       "        vertical-align: top;\n",
       "    }\n",
       "\n",
       "    .dataframe thead th {\n",
       "        text-align: right;\n",
       "    }\n",
       "</style>\n",
       "<table border=\"1\" class=\"dataframe\">\n",
       "  <thead>\n",
       "    <tr style=\"text-align: right;\">\n",
       "      <th></th>\n",
       "      <th>inicio</th>\n",
       "      <th>como_funciona</th>\n",
       "      <th>contato</th>\n",
       "      <th>comprou</th>\n",
       "    </tr>\n",
       "  </thead>\n",
       "  <tbody>\n",
       "    <tr>\n",
       "      <th>0</th>\n",
       "      <td>1</td>\n",
       "      <td>1</td>\n",
       "      <td>0</td>\n",
       "      <td>0</td>\n",
       "    </tr>\n",
       "    <tr>\n",
       "      <th>1</th>\n",
       "      <td>1</td>\n",
       "      <td>1</td>\n",
       "      <td>0</td>\n",
       "      <td>0</td>\n",
       "    </tr>\n",
       "    <tr>\n",
       "      <th>2</th>\n",
       "      <td>1</td>\n",
       "      <td>1</td>\n",
       "      <td>0</td>\n",
       "      <td>0</td>\n",
       "    </tr>\n",
       "    <tr>\n",
       "      <th>3</th>\n",
       "      <td>1</td>\n",
       "      <td>1</td>\n",
       "      <td>0</td>\n",
       "      <td>0</td>\n",
       "    </tr>\n",
       "    <tr>\n",
       "      <th>4</th>\n",
       "      <td>1</td>\n",
       "      <td>1</td>\n",
       "      <td>0</td>\n",
       "      <td>0</td>\n",
       "    </tr>\n",
       "  </tbody>\n",
       "</table>\n",
       "</div>"
      ],
      "text/plain": [
       "   inicio  como_funciona  contato  comprou\n",
       "0       1              1        0        0\n",
       "1       1              1        0        0\n",
       "2       1              1        0        0\n",
       "3       1              1        0        0\n",
       "4       1              1        0        0"
      ]
     },
     "execution_count": 2,
     "metadata": {},
     "output_type": "execute_result"
    }
   ],
   "source": [
    "# Renomeando colunas para PT-BR\n",
    "\n",
    "# Criando dic para alteração dos nomes\n",
    "mapa = {\n",
    "    'home': 'inicio',\n",
    "    'how_it_works': 'como_funciona',\n",
    "    'contact': 'contato',\n",
    "    'bought': 'comprou'\n",
    "}\n",
    "# Utilizando função Rename para alteração\n",
    "dados.rename(columns = mapa, inplace=True)\n",
    "\n",
    "# Visualizando \n",
    "dados.head(5)"
   ]
  },
  {
   "cell_type": "markdown",
   "id": "5fa49831",
   "metadata": {},
   "source": [
    "### Divindo dados em Treino/Teste"
   ]
  },
  {
   "cell_type": "code",
   "execution_count": 3,
   "id": "aa2029d7",
   "metadata": {},
   "outputs": [],
   "source": [
    "# Divindo o dataframe em X e y (labels)\n",
    "X = dados[['inicio', 'como_funciona', 'contato']]\n",
    "y = dados['comprou']"
   ]
  },
  {
   "cell_type": "code",
   "execution_count": 4,
   "id": "dddb38b6",
   "metadata": {},
   "outputs": [],
   "source": [
    "# Divindo em treino e teste\n",
    "\n",
    "# Treino\n",
    "treino_x = X[:75]\n",
    "treino_y = y[:75]\n",
    "\n",
    "# Teste\n",
    "teste_x = X[75:]\n",
    "teste_y = y[75:]"
   ]
  },
  {
   "cell_type": "markdown",
   "id": "7d69f3e5",
   "metadata": {},
   "source": [
    "### Utilizando o SKLearn"
   ]
  },
  {
   "cell_type": "code",
   "execution_count": 5,
   "id": "b9cee976",
   "metadata": {},
   "outputs": [],
   "source": [
    "from sklearn.svm import LinearSVC\n",
    "from sklearn.metrics import accuracy_score"
   ]
  },
  {
   "cell_type": "code",
   "execution_count": 6,
   "id": "aca1a544",
   "metadata": {},
   "outputs": [
    {
     "data": {
      "text/plain": [
       "LinearSVC()"
      ]
     },
     "execution_count": 6,
     "metadata": {},
     "output_type": "execute_result"
    }
   ],
   "source": [
    "# criando modelo\n",
    "modelo = LinearSVC()\n",
    "modelo.fit(treino_x, treino_y)"
   ]
  },
  {
   "cell_type": "code",
   "execution_count": 7,
   "id": "3761148c",
   "metadata": {},
   "outputs": [],
   "source": [
    "# criando as previsoes\n",
    "previsoes = modelo.predict(teste_x)"
   ]
  },
  {
   "cell_type": "code",
   "execution_count": 8,
   "id": "ff74d6de",
   "metadata": {},
   "outputs": [
    {
     "name": "stdout",
     "output_type": "stream",
     "text": [
      "A acurácia foi 95.83%\n"
     ]
    }
   ],
   "source": [
    "# testando o modelo\n",
    "accuracy = accuracy_score(teste_y, previsoes)*100\n",
    "\n",
    "print(f'A acurácia foi {accuracy:.2f}%')"
   ]
  },
  {
   "cell_type": "markdown",
   "id": "ef7c0b40",
   "metadata": {},
   "source": [
    "### Separando Treino/Teste com SKLearn"
   ]
  },
  {
   "cell_type": "code",
   "execution_count": 27,
   "id": "aefe1139",
   "metadata": {},
   "outputs": [],
   "source": [
    "from sklearn.model_selection import train_test_split"
   ]
  },
  {
   "cell_type": "code",
   "execution_count": 28,
   "id": "b9eabe3d",
   "metadata": {},
   "outputs": [],
   "source": [
    "treino_x, teste_x, treino_y, teste_y = train_test_split(X, y, test_size= 0.25, random_state= 20 )"
   ]
  },
  {
   "cell_type": "code",
   "execution_count": 29,
   "id": "189ac3d2",
   "metadata": {},
   "outputs": [
    {
     "data": {
      "text/plain": [
       "LinearSVC()"
      ]
     },
     "execution_count": 29,
     "metadata": {},
     "output_type": "execute_result"
    }
   ],
   "source": [
    "# criando modelo\n",
    "modelo = LinearSVC()\n",
    "modelo.fit(treino_x, treino_y)"
   ]
  },
  {
   "cell_type": "code",
   "execution_count": 30,
   "id": "bc06ca6a",
   "metadata": {},
   "outputs": [],
   "source": [
    "# criando as previsoes\n",
    "previsoes = modelo.predict(teste_x)"
   ]
  },
  {
   "cell_type": "code",
   "execution_count": 31,
   "id": "df3e5f19",
   "metadata": {},
   "outputs": [
    {
     "name": "stdout",
     "output_type": "stream",
     "text": [
      "A acurácia foi 96.00%\n"
     ]
    }
   ],
   "source": [
    "# testando o modelo\n",
    "accuracy = accuracy_score(teste_y, previsoes)*100\n",
    "\n",
    "print(f'A acurácia foi {accuracy:.2f}%')"
   ]
  },
  {
   "cell_type": "code",
   "execution_count": 32,
   "id": "e746762f",
   "metadata": {},
   "outputs": [
    {
     "data": {
      "text/plain": [
       "1.7407407407407407"
      ]
     },
     "execution_count": 32,
     "metadata": {},
     "output_type": "execute_result"
    }
   ],
   "source": [
    "# proporção de comprou para não comrpou no treino\n",
    "treino_y.value_counts()[0]/treino_y.value_counts()[1]"
   ]
  },
  {
   "cell_type": "code",
   "execution_count": 33,
   "id": "369838e6",
   "metadata": {},
   "outputs": [
    {
     "data": {
      "text/plain": [
       "3.1666666666666665"
      ]
     },
     "execution_count": 33,
     "metadata": {},
     "output_type": "execute_result"
    }
   ],
   "source": [
    "# proporção de comprou para não comrpou no teste\n",
    "teste_y.value_counts()[0]/teste_y.value_counts()[1]"
   ]
  },
  {
   "cell_type": "markdown",
   "id": "d0cd213e",
   "metadata": {},
   "source": [
    "A proporção de 0 e 1 no teste e treino estão diferentes, o que pode ser arriscado na criação de um modelo devido a possibilidade deste não identificar os compradores (1). Para evitar isso, utiliza-se a separação stratificada do SKLearn."
   ]
  },
  {
   "cell_type": "markdown",
   "id": "930d1792",
   "metadata": {},
   "source": [
    "## Separação stratificada do SKLearn"
   ]
  },
  {
   "cell_type": "code",
   "execution_count": 39,
   "id": "4dfe7998",
   "metadata": {},
   "outputs": [
    {
     "name": "stdout",
     "output_type": "stream",
     "text": [
      "A acurácia foi 96.00%\n"
     ]
    }
   ],
   "source": [
    "from sklearn.model_selection import train_test_split\n",
    "\n",
    "# adicionando o parametro \"stratify\"\n",
    "treino_x, teste_x, treino_y, teste_y = train_test_split(X, y, test_size= 0.25, random_state= 20, stratify= y)\n",
    "\n",
    "# criando modelo\n",
    "modelo = LinearSVC()\n",
    "modelo.fit(treino_x, treino_y)\n",
    "\n",
    "# criando as previsoes\n",
    "previsoes = modelo.predict(teste_x)\n",
    "\n",
    "# testando o modelo\n",
    "accuracy = accuracy_score(teste_y, previsoes)*100\n",
    "\n",
    "print(f'A acurácia foi {accuracy:.2f}%')"
   ]
  },
  {
   "cell_type": "code",
   "execution_count": 35,
   "id": "6f8ea81d",
   "metadata": {},
   "outputs": [
    {
     "data": {
      "text/plain": [
       "1.96"
      ]
     },
     "execution_count": 35,
     "metadata": {},
     "output_type": "execute_result"
    }
   ],
   "source": [
    "# proporção de comprou para não comrpou no treino utilizando a separação stratificada\n",
    "treino_y.value_counts()[0]/treino_y.value_counts()[1]"
   ]
  },
  {
   "cell_type": "code",
   "execution_count": 37,
   "id": "259a4ad3",
   "metadata": {},
   "outputs": [
    {
     "data": {
      "text/plain": [
       "2.125"
      ]
     },
     "execution_count": 37,
     "metadata": {},
     "output_type": "execute_result"
    }
   ],
   "source": [
    "# proporção de comprou para não comrpou no teste utilizando a separação stratificada\n",
    "teste_y.value_counts()[0]/teste_y.value_counts()[1]"
   ]
  },
  {
   "cell_type": "code",
   "execution_count": null,
   "id": "72059f1e",
   "metadata": {},
   "outputs": [],
   "source": []
  }
 ],
 "metadata": {
  "kernelspec": {
   "display_name": "Python 3 (ipykernel)",
   "language": "python",
   "name": "python3"
  },
  "language_info": {
   "codemirror_mode": {
    "name": "ipython",
    "version": 3
   },
   "file_extension": ".py",
   "mimetype": "text/x-python",
   "name": "python",
   "nbconvert_exporter": "python",
   "pygments_lexer": "ipython3",
   "version": "3.8.12"
  },
  "varInspector": {
   "cols": {
    "lenName": 16,
    "lenType": 16,
    "lenVar": 40
   },
   "kernels_config": {
    "python": {
     "delete_cmd_postfix": "",
     "delete_cmd_prefix": "del ",
     "library": "var_list.py",
     "varRefreshCmd": "print(var_dic_list())"
    },
    "r": {
     "delete_cmd_postfix": ") ",
     "delete_cmd_prefix": "rm(",
     "library": "var_list.r",
     "varRefreshCmd": "cat(var_dic_list()) "
    }
   },
   "types_to_exclude": [
    "module",
    "function",
    "builtin_function_or_method",
    "instance",
    "_Feature"
   ],
   "window_display": false
  }
 },
 "nbformat": 4,
 "nbformat_minor": 5
}
