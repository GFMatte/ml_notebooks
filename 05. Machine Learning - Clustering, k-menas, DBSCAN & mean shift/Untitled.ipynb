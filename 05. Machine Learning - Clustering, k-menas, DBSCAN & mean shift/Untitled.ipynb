{
 "cells": [
  {
   "cell_type": "markdown",
   "id": "058b1b08",
   "metadata": {},
   "source": [
    "# Clustering:"
   ]
  },
  {
   "cell_type": "markdown",
   "id": "7773977a",
   "metadata": {},
   "source": [
    "General imports & installs"
   ]
  },
  {
   "cell_type": "code",
   "execution_count": 1,
   "id": "2efc3233",
   "metadata": {},
   "outputs": [
    {
     "ename": "ModuleNotFoundError",
     "evalue": "No module named 'biokit'",
     "output_type": "error",
     "traceback": [
      "\u001b[1;31m---------------------------------------------------------------------------\u001b[0m",
      "\u001b[1;31mModuleNotFoundError\u001b[0m                       Traceback (most recent call last)",
      "Input \u001b[1;32mIn [1]\u001b[0m, in \u001b[0;36m<cell line: 4>\u001b[1;34m()\u001b[0m\n\u001b[0;32m      2\u001b[0m \u001b[38;5;28;01mimport\u001b[39;00m \u001b[38;5;21;01mnumpy\u001b[39;00m \u001b[38;5;28;01mas\u001b[39;00m \u001b[38;5;21;01mnp\u001b[39;00m\n\u001b[0;32m      3\u001b[0m \u001b[38;5;28;01mimport\u001b[39;00m \u001b[38;5;21;01mplotly\u001b[39;00m\u001b[38;5;21;01m.\u001b[39;00m\u001b[38;5;21;01mgraph_objects\u001b[39;00m \u001b[38;5;28;01mas\u001b[39;00m \u001b[38;5;21;01mgo\u001b[39;00m\n\u001b[1;32m----> 4\u001b[0m \u001b[38;5;28;01mfrom\u001b[39;00m \u001b[38;5;21;01mbiokit\u001b[39;00m\u001b[38;5;21;01m.\u001b[39;00m\u001b[38;5;21;01mviz\u001b[39;00m \u001b[38;5;28;01mimport\u001b[39;00m corrplot\n\u001b[0;32m      5\u001b[0m \u001b[38;5;28;01mimport\u001b[39;00m \u001b[38;5;21;01mmatplotlib\u001b[39;00m\u001b[38;5;21;01m.\u001b[39;00m\u001b[38;5;21;01mpyplot\u001b[39;00m \u001b[38;5;28;01mas\u001b[39;00m \u001b[38;5;21;01mplt\u001b[39;00m\n\u001b[0;32m      6\u001b[0m \u001b[38;5;28;01mfrom\u001b[39;00m \u001b[38;5;21;01msklearn\u001b[39;00m \u001b[38;5;28;01mimport\u001b[39;00m preprocessing\n",
      "\u001b[1;31mModuleNotFoundError\u001b[0m: No module named 'biokit'"
     ]
    }
   ],
   "source": [
    "import pandas as pd\n",
    "import numpy as np\n",
    "import plotly.graph_objects as go\n",
    "from biokit.viz import corrplot\n",
    "import matplotlib.pyplot as plt\n",
    "from sklearn import preprocessing\n",
    "from sklearn.cluster import KMeans\n",
    "from sklearn.cluster import DBSCAN"
   ]
  },
  {
   "cell_type": "code",
   "execution_count": null,
   "id": "f5f36bdc",
   "metadata": {},
   "outputs": [],
   "source": [
    "# pip install plotly==4.1.0"
   ]
  },
  {
   "cell_type": "code",
   "execution_count": 2,
   "id": "ef88cd9f",
   "metadata": {},
   "outputs": [
    {
     "name": "stdout",
     "output_type": "stream",
     "text": [
      "Collecting biokit\n",
      "  Downloading biokit-0.5.0.tar.gz (162 kB)\n",
      "Collecting easydev>=0.9.34\n",
      "  Downloading easydev-0.12.0.tar.gz (47 kB)\n",
      "Requirement already satisfied: pandas in c:\\users\\guilh\\anaconda3\\envs\\generaldatascience\\lib\\site-packages (from biokit) (1.4.2)\n",
      "Collecting bioservices>=1.4.5\n",
      "  Downloading bioservices-1.9.0.tar.gz (199 kB)\n",
      "Collecting colormap\n",
      "  Downloading colormap-1.0.4.tar.gz (17 kB)\n",
      "Requirement already satisfied: scipy in c:\\users\\guilh\\anaconda3\\envs\\generaldatascience\\lib\\site-packages (from biokit) (1.7.3)\n",
      "Collecting biopython\n",
      "  Downloading biopython-1.79-cp39-cp39-win_amd64.whl (2.3 MB)\n",
      "Requirement already satisfied: matplotlib in c:\\users\\guilh\\anaconda3\\envs\\generaldatascience\\lib\\site-packages (from biokit) (3.5.1)\n",
      "Collecting numpydoc\n",
      "  Downloading numpydoc-1.4.0-py3-none-any.whl (51 kB)\n",
      "Collecting colorlog\n",
      "  Downloading colorlog-6.6.0-py2.py3-none-any.whl (11 kB)\n",
      "Collecting grequests\n",
      "  Downloading grequests-0.6.0-py3-none-any.whl (5.2 kB)\n",
      "Requirement already satisfied: requests in c:\\users\\guilh\\anaconda3\\envs\\generaldatascience\\lib\\site-packages (from bioservices>=1.4.5->biokit) (2.27.1)\n",
      "Collecting requests_cache\n",
      "  Downloading requests_cache-0.9.4-py3-none-any.whl (47 kB)\n",
      "Requirement already satisfied: beautifulsoup4 in c:\\users\\guilh\\anaconda3\\envs\\generaldatascience\\lib\\site-packages (from bioservices>=1.4.5->biokit) (4.11.1)\n",
      "Collecting xmltodict\n",
      "  Downloading xmltodict-0.13.0-py2.py3-none-any.whl (10.0 kB)\n",
      "Requirement already satisfied: lxml in c:\\users\\guilh\\anaconda3\\envs\\generaldatascience\\lib\\site-packages (from bioservices>=1.4.5->biokit) (4.8.0)\n",
      "Collecting suds-community\n",
      "  Downloading suds_community-1.1.1-py3-none-any.whl (144 kB)\n",
      "Collecting appdirs\n",
      "  Downloading appdirs-1.4.4-py2.py3-none-any.whl (9.6 kB)\n",
      "Collecting wrapt\n",
      "  Downloading wrapt-1.14.1-cp39-cp39-win_amd64.whl (35 kB)\n",
      "Requirement already satisfied: colorama in c:\\users\\guilh\\anaconda3\\envs\\generaldatascience\\lib\\site-packages (from easydev>=0.9.34->biokit) (0.4.4)\n",
      "Collecting pexpect\n",
      "  Downloading pexpect-4.8.0-py2.py3-none-any.whl (59 kB)\n",
      "Requirement already satisfied: soupsieve>1.2 in c:\\users\\guilh\\anaconda3\\envs\\generaldatascience\\lib\\site-packages (from beautifulsoup4->bioservices>=1.4.5->biokit) (2.3.1)\n",
      "Requirement already satisfied: numpy in c:\\users\\guilh\\anaconda3\\envs\\generaldatascience\\lib\\site-packages (from biopython->biokit) (1.22.3)\n",
      "Collecting gevent\n",
      "  Downloading gevent-21.12.0-cp39-cp39-win_amd64.whl (1.6 MB)\n",
      "Collecting zope.interface\n",
      "  Downloading zope.interface-5.4.0-cp39-cp39-win_amd64.whl (210 kB)\n",
      "Requirement already satisfied: setuptools in c:\\users\\guilh\\anaconda3\\envs\\generaldatascience\\lib\\site-packages (from gevent->grequests->bioservices>=1.4.5->biokit) (61.2.0)\n",
      "Requirement already satisfied: greenlet<2.0,>=1.1.0 in c:\\users\\guilh\\anaconda3\\envs\\generaldatascience\\lib\\site-packages (from gevent->grequests->bioservices>=1.4.5->biokit) (1.1.1)\n",
      "Collecting zope.event\n",
      "  Downloading zope.event-4.5.0-py2.py3-none-any.whl (6.8 kB)\n",
      "Requirement already satisfied: cffi>=1.12.2 in c:\\users\\guilh\\anaconda3\\envs\\generaldatascience\\lib\\site-packages (from gevent->grequests->bioservices>=1.4.5->biokit) (1.15.0)\n",
      "Requirement already satisfied: pycparser in c:\\users\\guilh\\anaconda3\\envs\\generaldatascience\\lib\\site-packages (from cffi>=1.12.2->gevent->grequests->bioservices>=1.4.5->biokit) (2.21)\n",
      "Requirement already satisfied: pillow>=6.2.0 in c:\\users\\guilh\\anaconda3\\envs\\generaldatascience\\lib\\site-packages (from matplotlib->biokit) (9.0.1)\n",
      "Requirement already satisfied: pyparsing>=2.2.1 in c:\\users\\guilh\\anaconda3\\envs\\generaldatascience\\lib\\site-packages (from matplotlib->biokit) (3.0.4)\n",
      "Requirement already satisfied: cycler>=0.10 in c:\\users\\guilh\\anaconda3\\envs\\generaldatascience\\lib\\site-packages (from matplotlib->biokit) (0.11.0)\n",
      "Requirement already satisfied: packaging>=20.0 in c:\\users\\guilh\\anaconda3\\envs\\generaldatascience\\lib\\site-packages (from matplotlib->biokit) (21.3)\n",
      "Requirement already satisfied: fonttools>=4.22.0 in c:\\users\\guilh\\anaconda3\\envs\\generaldatascience\\lib\\site-packages (from matplotlib->biokit) (4.25.0)\n",
      "Requirement already satisfied: python-dateutil>=2.7 in c:\\users\\guilh\\anaconda3\\envs\\generaldatascience\\lib\\site-packages (from matplotlib->biokit) (2.8.2)\n",
      "Requirement already satisfied: kiwisolver>=1.0.1 in c:\\users\\guilh\\anaconda3\\envs\\generaldatascience\\lib\\site-packages (from matplotlib->biokit) (1.4.2)\n",
      "Requirement already satisfied: six>=1.5 in c:\\users\\guilh\\anaconda3\\envs\\generaldatascience\\lib\\site-packages (from python-dateutil>=2.7->matplotlib->biokit) (1.16.0)\n",
      "Collecting sphinx>=3.0\n",
      "  Downloading Sphinx-5.0.1-py3-none-any.whl (3.1 MB)\n",
      "Requirement already satisfied: Jinja2>=2.10 in c:\\users\\guilh\\anaconda3\\envs\\generaldatascience\\lib\\site-packages (from numpydoc->biokit) (3.0.3)\n",
      "Requirement already satisfied: MarkupSafe>=2.0 in c:\\users\\guilh\\anaconda3\\envs\\generaldatascience\\lib\\site-packages (from Jinja2>=2.10->numpydoc->biokit) (2.1.1)\n",
      "Collecting importlib-metadata>=4.4\n",
      "  Downloading importlib_metadata-4.11.4-py3-none-any.whl (18 kB)\n",
      "Collecting docutils<0.19,>=0.14\n",
      "  Downloading docutils-0.18.1-py2.py3-none-any.whl (570 kB)\n",
      "Collecting sphinxcontrib-jsmath\n",
      "  Downloading sphinxcontrib_jsmath-1.0.1-py2.py3-none-any.whl (5.1 kB)\n",
      "Collecting imagesize\n",
      "  Downloading imagesize-1.3.0-py2.py3-none-any.whl (5.2 kB)\n",
      "Collecting alabaster<0.8,>=0.7\n",
      "  Downloading alabaster-0.7.12-py2.py3-none-any.whl (14 kB)\n",
      "Collecting sphinxcontrib-devhelp\n",
      "  Downloading sphinxcontrib_devhelp-1.0.2-py2.py3-none-any.whl (84 kB)\n",
      "Collecting snowballstemmer>=1.1\n",
      "  Downloading snowballstemmer-2.2.0-py2.py3-none-any.whl (93 kB)\n",
      "Collecting sphinxcontrib-applehelp\n",
      "  Downloading sphinxcontrib_applehelp-1.0.2-py2.py3-none-any.whl (121 kB)\n",
      "Collecting sphinxcontrib-htmlhelp>=2.0.0\n",
      "  Downloading sphinxcontrib_htmlhelp-2.0.0-py2.py3-none-any.whl (100 kB)\n",
      "Collecting sphinxcontrib-serializinghtml>=1.1.5\n",
      "  Downloading sphinxcontrib_serializinghtml-1.1.5-py2.py3-none-any.whl (94 kB)\n",
      "Collecting sphinxcontrib-qthelp\n",
      "  Downloading sphinxcontrib_qthelp-1.0.3-py2.py3-none-any.whl (90 kB)\n",
      "Collecting babel>=1.3\n",
      "  Downloading Babel-2.10.1-py3-none-any.whl (9.5 MB)\n",
      "Requirement already satisfied: Pygments>=2.0 in c:\\users\\guilh\\anaconda3\\envs\\generaldatascience\\lib\\site-packages (from sphinx>=3.0->numpydoc->biokit) (2.11.2)\n",
      "Requirement already satisfied: pytz>=2015.7 in c:\\users\\guilh\\anaconda3\\envs\\generaldatascience\\lib\\site-packages (from babel>=1.3->sphinx>=3.0->numpydoc->biokit) (2022.1)\n",
      "Collecting zipp>=0.5\n",
      "  Downloading zipp-3.8.0-py3-none-any.whl (5.4 kB)\n",
      "Requirement already satisfied: idna<4,>=2.5 in c:\\users\\guilh\\anaconda3\\envs\\generaldatascience\\lib\\site-packages (from requests->bioservices>=1.4.5->biokit) (3.3)\n",
      "Requirement already satisfied: certifi>=2017.4.17 in c:\\users\\guilh\\anaconda3\\envs\\generaldatascience\\lib\\site-packages (from requests->bioservices>=1.4.5->biokit) (2022.5.18.1)\n",
      "Requirement already satisfied: urllib3<1.27,>=1.21.1 in c:\\users\\guilh\\anaconda3\\envs\\generaldatascience\\lib\\site-packages (from requests->bioservices>=1.4.5->biokit) (1.26.9)\n",
      "Requirement already satisfied: charset-normalizer~=2.0.0 in c:\\users\\guilh\\anaconda3\\envs\\generaldatascience\\lib\\site-packages (from requests->bioservices>=1.4.5->biokit) (2.0.4)\n",
      "Collecting ptyprocess>=0.5\n",
      "  Downloading ptyprocess-0.7.0-py2.py3-none-any.whl (13 kB)\n",
      "Collecting url-normalize<2.0,>=1.4\n",
      "  Downloading url_normalize-1.4.3-py2.py3-none-any.whl (6.8 kB)\n",
      "Collecting cattrs<2.0,>=1.8\n",
      "  Downloading cattrs-1.10.0-py3-none-any.whl (29 kB)\n",
      "Requirement already satisfied: attrs<22.0,>=21.2 in c:\\users\\guilh\\anaconda3\\envs\\generaldatascience\\lib\\site-packages (from requests_cache->bioservices>=1.4.5->biokit) (21.4.0)\n",
      "Building wheels for collected packages: biokit, bioservices, easydev, colormap\n",
      "  Building wheel for biokit (setup.py): started\n",
      "  Building wheel for biokit (setup.py): finished with status 'done'\n",
      "  Created wheel for biokit: filename=biokit-0.5.0-py3-none-any.whl size=176923 sha256=4da085900778cde9b6b26b31927235960a53fbaaa364cd3a0c2499ddb7032e82\n",
      "  Stored in directory: c:\\users\\guilh\\appdata\\local\\pip\\cache\\wheels\\43\\d6\\0a\\21215e9157cd30e540104c3fb47f702d053a4815edb10da59fNote: you may need to restart the kernel to use updated packages.\n",
      "  Building wheel for bioservices (setup.py): started\n",
      "  Building wheel for bioservices (setup.py): finished with status 'done'\n",
      "  Created wheel for bioservices: filename=bioservices-1.9.0-py3-none-any.whl size=230231 sha256=326890b9c93311f8d3ec703d9d73d6b211fdec32a72d346a6cf8801e8ff3cf41\n",
      "  Stored in directory: c:\\users\\guilh\\appdata\\local\\pip\\cache\\wheels\\da\\32\\16\\d61e0b0e45ba61788d222b5f68c2e0d146df1e2d5f949fb25c\n",
      "  Building wheel for easydev (setup.py): started\n",
      "  Building wheel for easydev (setup.py): finished with status 'done'\n",
      "  Created wheel for easydev: filename=easydev-0.12.0-py3-none-any.whl size=64231 sha256=4823955d0cfcd8429d57b24d153f5c641b19fd0703f86f104b4446d3d2e2b96c\n",
      "  Stored in directory: c:\\users\\guilh\\appdata\\local\\pip\\cache\\wheels\\91\\1a\\c5\\9dfcc86c5bb27991b4dd27741dd03847dfca83ce975c186ddb\n",
      "\n"
     ]
    },
    {
     "name": "stdout",
     "output_type": "stream",
     "text": [
      "  Building wheel for colormap (setup.py): started\n",
      "  Building wheel for colormap (setup.py): finished with status 'done'\n",
      "  Created wheel for colormap: filename=colormap-1.0.4-py3-none-any.whl size=15637 sha256=d29e1be8f970fbd21595c0da00717b2ecd860544199bec1793ca80a7450aa399\n",
      "  Stored in directory: c:\\users\\guilh\\appdata\\local\\pip\\cache\\wheels\\85\\d0\\c0\\3ac513b77d6a3d9fdc8e5252f1a5abbcfd8f33a4f6dd8d5de4\n",
      "Successfully built biokit bioservices easydev colormap\n",
      "Installing collected packages: zope.interface, zope.event, zipp, ptyprocess, url-normalize, sphinxcontrib-serializinghtml, sphinxcontrib-qthelp, sphinxcontrib-jsmath, sphinxcontrib-htmlhelp, sphinxcontrib-devhelp, sphinxcontrib-applehelp, snowballstemmer, pexpect, importlib-metadata, imagesize, gevent, docutils, colorlog, cattrs, babel, appdirs, alabaster, xmltodict, wrapt, suds-community, sphinx, requests-cache, grequests, easydev, numpydoc, colormap, bioservices, biopython, biokit\n",
      "Successfully installed alabaster-0.7.12 appdirs-1.4.4 babel-2.10.1 biokit-0.5.0 biopython-1.79 bioservices-1.9.0 cattrs-1.10.0 colorlog-6.6.0 colormap-1.0.4 docutils-0.18.1 easydev-0.12.0 gevent-21.12.0 grequests-0.6.0 imagesize-1.3.0 importlib-metadata-4.11.4 numpydoc-1.4.0 pexpect-4.8.0 ptyprocess-0.7.0 requests-cache-0.9.4 snowballstemmer-2.2.0 sphinx-5.0.1 sphinxcontrib-applehelp-1.0.2 sphinxcontrib-devhelp-1.0.2 sphinxcontrib-htmlhelp-2.0.0 sphinxcontrib-jsmath-1.0.1 sphinxcontrib-qthelp-1.0.3 sphinxcontrib-serializinghtml-1.1.5 suds-community-1.1.1 url-normalize-1.4.3 wrapt-1.14.1 xmltodict-0.13.0 zipp-3.8.0 zope.event-4.5.0 zope.interface-5.4.0\n"
     ]
    }
   ],
   "source": [
    "pip install biokit"
   ]
  },
  {
   "cell_type": "code",
   "execution_count": null,
   "id": "ac7dc58f",
   "metadata": {},
   "outputs": [],
   "source": [
    "# pip install threadpoolctl"
   ]
  },
  {
   "cell_type": "markdown",
   "id": "6eb76c5e",
   "metadata": {},
   "source": [
    "Loading and visualizing the data"
   ]
  },
  {
   "cell_type": "code",
   "execution_count": null,
   "id": "aab7a42a",
   "metadata": {},
   "outputs": [],
   "source": [
    "data = pd.read_csv('data/Wine.csv')\n",
    "print('The data has', data.shape[0], 'rows and',data.shape[1],'attributes.')\n",
    "data.head()"
   ]
  },
  {
   "cell_type": "markdown",
   "id": "6b9951f4",
   "metadata": {},
   "source": [
    "## A little of EDA"
   ]
  },
  {
   "cell_type": "markdown",
   "id": "e4b2a732",
   "metadata": {},
   "source": [
    "Using the `describe` method to have a general overview of the descriptive statistics"
   ]
  },
  {
   "cell_type": "code",
   "execution_count": null,
   "id": "7a119b18",
   "metadata": {},
   "outputs": [],
   "source": [
    "data.describe().round(2)"
   ]
  },
  {
   "cell_type": "markdown",
   "id": "87aef1c8",
   "metadata": {},
   "source": [
    "Creating a correlation matrix with `.corr()` method"
   ]
  },
  {
   "cell_type": "code",
   "execution_count": null,
   "id": "bd2dbc26",
   "metadata": {},
   "outputs": [],
   "source": [
    "corr_matrix = data.corr().round(4)\n",
    "corr_matrix"
   ]
  },
  {
   "cell_type": "markdown",
   "id": "3a56286e",
   "metadata": {},
   "source": [
    "Creating a correlation graph using _biokit_ `corrplot` method"
   ]
  },
  {
   "cell_type": "code",
   "execution_count": null,
   "id": "193997bf",
   "metadata": {},
   "outputs": [],
   "source": [
    "corr_graph = corrplot.Corrplot(corr_matrix)\n",
    "corr_graph.plot(upper = 'ellipse', fontsize= 'x-large')\n",
    "fig = plt.gcf()\n",
    "fig.set_size_inches(12,8)\n",
    "fig.show()"
   ]
  },
  {
   "cell_type": "markdown",
   "id": "d8c347a1",
   "metadata": {},
   "source": [
    "## Normalizing the Data"
   ]
  },
  {
   "cell_type": "markdown",
   "id": "76f5f1bf",
   "metadata": {},
   "source": [
    "Since most ML models does not work properly with high variability in the data attributes, normalization tecniques can be used to acchieve less variable attributes that trough the same range of values (like from -1 to 1)"
   ]
  },
  {
   "cell_type": "markdown",
   "id": "70713de1",
   "metadata": {},
   "source": [
    "Mannual Normalziation by `MinMaxScaler`"
   ]
  },
  {
   "cell_type": "code",
   "execution_count": null,
   "id": "9df39b59",
   "metadata": {},
   "outputs": [],
   "source": [
    "attributes = data.columns\n",
    "for attr in attributes:\n",
    "    data[attr] = (data[attr] - min(data[attr])) / (max(data[attr]) - min(data[attr]))"
   ]
  },
  {
   "cell_type": "code",
   "execution_count": null,
   "id": "9e0a3a53",
   "metadata": {},
   "outputs": [],
   "source": [
    "# checking if all the data is varying from 0 to 1\n",
    "data.head()"
   ]
  },
  {
   "cell_type": "code",
   "execution_count": null,
   "id": "0998f874",
   "metadata": {},
   "outputs": [],
   "source": [
    "data.describe().round(2)"
   ]
  },
  {
   "cell_type": "markdown",
   "id": "1b22bf02",
   "metadata": {},
   "source": [
    "All the `max` values are set to 1 and `min` values set to 0"
   ]
  },
  {
   "cell_type": "markdown",
   "id": "96421d32",
   "metadata": {},
   "source": [
    "Normalizing the data with SK Learn"
   ]
  },
  {
   "cell_type": "code",
   "execution_count": null,
   "id": "b7b5b1ef",
   "metadata": {},
   "outputs": [],
   "source": [
    "min_max_scaler = preprocessing.MinMaxScaler()\n",
    "np_data = min_max_scaler.fit_transform(data)\n",
    "data = pd.DataFrame(np_data, columns = attributes)\n",
    "data.describe().round(2)"
   ]
  },
  {
   "cell_type": "markdown",
   "id": "38bc7a84",
   "metadata": {},
   "source": [
    "Using the _SKLearn_ we have the same output as our mannual method"
   ]
  },
  {
   "cell_type": "markdown",
   "id": "907a63de",
   "metadata": {},
   "source": [
    "## Introduction to K-means"
   ]
  },
  {
   "cell_type": "markdown",
   "id": "cb56dd11",
   "metadata": {},
   "source": [
    "K-means with 4 for clusters visualization"
   ]
  },
  {
   "cell_type": "code",
   "execution_count": null,
   "id": "f367cbdd",
   "metadata": {},
   "outputs": [],
   "source": [
    "k_means = KMeans(n_clusters=4)\n",
    "clustered_data = k_means.fit(data)\n",
    "labels = clustered_data.labels_\n",
    "print(labels)"
   ]
  },
  {
   "cell_type": "code",
   "execution_count": null,
   "id": "d46d8681",
   "metadata": {},
   "outputs": [],
   "source": [
    "# printing in a graph with plotly 2D\n",
    "fig = go.Figure()\n",
    "fig.add_trace(go.Scatter(x = data['Color_Intensity'], y = data['Alcohol'], mode = 'markers' , marker = dict(color = labels.astype(float)), text= labels))\n",
    "fig.update_layout(autosize=False, width=1000, height=500, margin=dict(l=50, r=50, b=50, t=50, pad=4), paper_bgcolor=\"darkgray\",)\n",
    "fig.show()"
   ]
  },
  {
   "cell_type": "markdown",
   "id": "5f14ceba",
   "metadata": {},
   "source": [
    "K-means with 3 for clusters visualization"
   ]
  },
  {
   "cell_type": "code",
   "execution_count": null,
   "id": "67d77732",
   "metadata": {},
   "outputs": [],
   "source": [
    "k_means = KMeans(n_clusters=3)\n",
    "clustered_data = k_means.fit(data)\n",
    "labels = clustered_data.labels_\n",
    "print(labels)"
   ]
  },
  {
   "cell_type": "code",
   "execution_count": null,
   "id": "430f91ed",
   "metadata": {},
   "outputs": [],
   "source": [
    "# printing in a graph with plotly 2D\n",
    "fig = go.Figure()\n",
    "fig.add_trace(go.Scatter(x = data['Color_Intensity'], y = data['Alcohol'], mode = 'markers' , marker = dict(color = labels.astype(float)), text= labels))\n",
    "fig.update_layout(autosize=False, width=1000, height=500, margin=dict(l=50, r=50, b=50, t=50, pad=4), paper_bgcolor=\"darkgray\",)\n",
    "fig.show()"
   ]
  },
  {
   "cell_type": "markdown",
   "id": "aebd592d",
   "metadata": {},
   "source": [
    "Printing the K-mean 3 in 3D"
   ]
  },
  {
   "cell_type": "code",
   "execution_count": null,
   "id": "25d24864",
   "metadata": {},
   "outputs": [],
   "source": [
    "fig = go.Figure()\n",
    "fig.add_trace(go.Scatter3d(x = data['Color_Intensity'], y = data['Alcohol'],z = data['Proline'], mode = 'markers' , marker = dict(color = labels.astype(float)), text= labels))\n",
    "fig.update_layout(autosize=False, width=1000, height=500, margin=dict(l=50, r=50, b=50, t=50, pad=4), paper_bgcolor=\"black\", \n",
    "                  scene=dict(xaxis_title = 'Color Intensity', yaxis_title = 'Alcohol', zaxis_title = 'Proline'))\n",
    "fig.show()"
   ]
  },
  {
   "cell_type": "markdown",
   "id": "60b1219d",
   "metadata": {},
   "source": [
    "Adding the center from each cluster"
   ]
  },
  {
   "cell_type": "code",
   "execution_count": null,
   "id": "d840adcc",
   "metadata": {},
   "outputs": [],
   "source": [
    "center = pd.DataFrame(k_means.cluster_centers_, columns = attributes)\n",
    "center"
   ]
  },
  {
   "cell_type": "code",
   "execution_count": null,
   "id": "91fa9ec2",
   "metadata": {},
   "outputs": [],
   "source": [
    "fig = go.Figure()\n",
    "fig.add_trace(go.Scatter3d(x = data['Color_Intensity'], y = data['Alcohol'],z = data['Proline'], mode = 'markers' , marker = dict(color = labels.astype(float)), text= labels))\n",
    "# Addign center here\n",
    "fig.add_trace(go.Scatter3d(x = center['Color_Intensity'], y = center['Alcohol'], z = center['Proline'], mode = 'markers', marker = {'color': 'green'}, text = [0, 1, 2]))\n",
    "\n",
    "fig.update_layout(autosize=False, width=1000, height=700, margin=dict(l=50, r=50, b=50, t=50, pad=4), paper_bgcolor=\"black\", \n",
    "                  scene=dict(xaxis_title = 'Color Intensity', yaxis_title = 'Alcohol', zaxis_title = 'Proline'))\n",
    "fig.show()"
   ]
  },
  {
   "cell_type": "markdown",
   "id": "e7e20c8e",
   "metadata": {},
   "source": [
    "## Introduction to DBSCAN"
   ]
  },
  {
   "cell_type": "markdown",
   "id": "2a71782b",
   "metadata": {},
   "source": [
    "Density-Based Spatial Clustering Application with Noise"
   ]
  },
  {
   "cell_type": "code",
   "execution_count": null,
   "id": "49ecb3dc",
   "metadata": {},
   "outputs": [],
   "source": [
    "dbscan = DBSCAN(eps = 1.31, min_samples= 15, metric= 'manhattan')\n",
    "dbscan_cluster = dbscan.fit(data)"
   ]
  },
  {
   "cell_type": "code",
   "execution_count": null,
   "id": "711c1f73",
   "metadata": {},
   "outputs": [],
   "source": [
    "dbscan_cluster.labels_"
   ]
  },
  {
   "cell_type": "code",
   "execution_count": null,
   "id": "0c73d00f",
   "metadata": {},
   "outputs": [],
   "source": [
    "# checking the number of clusters (-1 is a classification of noise)\n",
    "np.unique(dbscan_cluster.labels_)"
   ]
  },
  {
   "cell_type": "markdown",
   "id": "9020f8ab",
   "metadata": {},
   "source": [
    ">Key Ideas <br>\n",
    "- The _DBSCAN_ works selecting a random point and checking the number of neighbour points\n",
    "- The `min_samples` marks wether a sample will be considered a cluster or just a noise\n",
    "- The `eps` parameter delemits the radial distance that model will use to check for near neighbour\n",
    "- It's better than k-means when there is noise in the dataset or the clusters are on non-radial groups"
   ]
  },
  {
   "cell_type": "markdown",
   "id": "8c09cd49",
   "metadata": {},
   "source": [
    "### Varying some parameters in DBSCAN"
   ]
  },
  {
   "cell_type": "markdown",
   "id": "631360e6",
   "metadata": {},
   "source": [
    "Varying the `eps` parameter"
   ]
  },
  {
   "cell_type": "code",
   "execution_count": null,
   "id": "328ec962",
   "metadata": {},
   "outputs": [],
   "source": [
    "# with a low 'eps' we can see that all samples are considered as noise\n",
    "dbscan = DBSCAN(eps = 0.01, min_samples= 15, metric= 'manhattan')\n",
    "dbscan_cluster = dbscan.fit(data)\n",
    "dbscan_cluster.labels_"
   ]
  },
  {
   "cell_type": "code",
   "execution_count": null,
   "id": "328b0814",
   "metadata": {},
   "outputs": [],
   "source": [
    "# with a high 'eps' we can see that all samples are considered only one cluster\n",
    "dbscan = DBSCAN(eps = 10, min_samples= 15, metric= 'manhattan')\n",
    "dbscan_cluster = dbscan.fit(data)\n",
    "dbscan_cluster.labels_"
   ]
  },
  {
   "cell_type": "markdown",
   "id": "6dc3c967",
   "metadata": {},
   "source": [
    "Varying the `min_samples` parameter"
   ]
  },
  {
   "cell_type": "code",
   "execution_count": null,
   "id": "8407d2f5",
   "metadata": {},
   "outputs": [],
   "source": [
    "# min samples of 30\n",
    "dbscan = DBSCAN(eps = 1.5, min_samples= 30, metric= 'manhattan')\n",
    "dbscan_cluster = dbscan.fit(data)\n",
    "dbscan_cluster.labels_"
   ]
  },
  {
   "cell_type": "code",
   "execution_count": null,
   "id": "8f2a2f8e",
   "metadata": {},
   "outputs": [],
   "source": [
    "# min samples of 80\n",
    "dbscan = DBSCAN(eps = 1.5, min_samples= 80, metric= 'manhattan')\n",
    "dbscan_cluster = dbscan.fit(data)\n",
    "dbscan_cluster.labels_"
   ]
  },
  {
   "cell_type": "markdown",
   "id": "1a66404c",
   "metadata": {},
   "source": [
    "We can see that, the higher the `min_samples` the harder it is for the model to create a cluster. So there is more data classified as noise"
   ]
  },
  {
   "cell_type": "code",
   "execution_count": null,
   "id": "a3e89533",
   "metadata": {},
   "outputs": [],
   "source": []
  }
 ],
 "metadata": {
  "kernelspec": {
   "display_name": "Python 3 (ipykernel)",
   "language": "python",
   "name": "python3"
  },
  "language_info": {
   "codemirror_mode": {
    "name": "ipython",
    "version": 3
   },
   "file_extension": ".py",
   "mimetype": "text/x-python",
   "name": "python",
   "nbconvert_exporter": "python",
   "pygments_lexer": "ipython3",
   "version": "3.9.12"
  },
  "varInspector": {
   "cols": {
    "lenName": 16,
    "lenType": 16,
    "lenVar": 40
   },
   "kernels_config": {
    "python": {
     "delete_cmd_postfix": "",
     "delete_cmd_prefix": "del ",
     "library": "var_list.py",
     "varRefreshCmd": "print(var_dic_list())"
    },
    "r": {
     "delete_cmd_postfix": ") ",
     "delete_cmd_prefix": "rm(",
     "library": "var_list.r",
     "varRefreshCmd": "cat(var_dic_list()) "
    }
   },
   "types_to_exclude": [
    "module",
    "function",
    "builtin_function_or_method",
    "instance",
    "_Feature"
   ],
   "window_display": false
  }
 },
 "nbformat": 4,
 "nbformat_minor": 5
}
